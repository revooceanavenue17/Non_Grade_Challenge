{
 "cells": [
  {
   "cell_type": "markdown",
   "metadata": {},
   "source": [
    "Nama  : Naufal Andika Ramadhan  \n",
    "Batch : HCK-12"
   ]
  },
  {
   "cell_type": "markdown",
   "metadata": {},
   "source": [
    "# Task 1\n",
    "How many unique customer_id from below list?\n"
   ]
  },
  {
   "cell_type": "code",
   "execution_count": 2,
   "metadata": {},
   "outputs": [
    {
     "name": "stdout",
     "output_type": "stream",
     "text": [
      "12\n"
     ]
    }
   ],
   "source": [
    "customer_id = [\n",
    "    'B818', 'A461', 'A092', 'A082', 'B341', \n",
    "    'A005', 'A092', 'A461','B219', 'B904', \n",
    "    'A901', 'A083', 'B904', 'A092', 'B341', \n",
    "    'B821','B341', 'B821', 'B904', 'B818', \n",
    "    'A901', 'A083', 'B818', 'A082','B219', \n",
    "    'B219', 'A083', 'A901', 'A082', 'B341', \n",
    "    'B341', 'A083','A082', 'B219', 'B439', \n",
    "    'A461', 'A005', 'A901', 'B341', 'A082',\n",
    "    'A083', 'A461', 'A083', 'A901', 'A461',\n",
    "    'A083', 'A082', 'A083','B341', 'A901', \n",
    "    'A082', 'A461', 'B219', 'A083', 'B818', \n",
    "    'B821','A092', 'B341', 'A461', 'A092',\n",
    "    'A083', 'B821', 'A092'\n",
    "    ]\n",
    "customer_id = set(customer_id)\n",
    "print(len(customer_id))"
   ]
  },
  {
   "cell_type": "markdown",
   "metadata": {},
   "source": [
    "# Task 2\n",
    "Given list of:  \n",
    "Data = [1, 4, 9, 16, 25, 36, 49,  64, 81, 100]  \n",
    "  \n",
    "Use indexing so you can get this output:  \n",
    "a. 16  \n",
    "b. [36, 49, 64, 81]  \n",
    "c. [100, 81, 64, 49, 36, 25, 16, 9, 4, 1]"
   ]
  },
  {
   "cell_type": "code",
   "execution_count": 15,
   "metadata": {},
   "outputs": [
    {
     "name": "stdout",
     "output_type": "stream",
     "text": [
      "16\n",
      "[36, 49, 64, 81]\n",
      "[100, 81, 64, 49, 36, 25, 16, 9, 4, 1]\n"
     ]
    }
   ],
   "source": [
    "Data = [1, 4, 9, 16, 25, 36, 49,  64, 81, 100]\n",
    "# soal a. \n",
    "print(Data[3])\n",
    "# soal b. \n",
    "print(Data[5:9])\n",
    "# soal c. \n",
    "Data.sort(reverse=True)\n",
    "print(Data)"
   ]
  },
  {
   "cell_type": "markdown",
   "metadata": {},
   "source": [
    "# Task 3\n",
    "What python command can be use to:  \n",
    "a.Get list of keys available in dictionary  \n",
    "b.Change 'Jawa Timur' value from 'Madiun'  to 'Surabaya'"
   ]
  },
  {
   "cell_type": "code",
   "execution_count": 14,
   "metadata": {},
   "outputs": [
    {
     "name": "stdout",
     "output_type": "stream",
     "text": [
      "['Nanggroe Aceh Darussalam', 'Sumatera Selatan', 'Kalimantan Barat', 'Jawa Timur', 'Sulawesi Selatan', 'Maluku']\n",
      "{'Nanggroe Aceh Darussalam': 'Aceh', 'Sumatera Selatan': 'Palembang', 'Kalimantan Barat': 'Pontianak', 'Jawa Timur': 'Surabaya', 'Sulawesi Selatan': 'Makassar', 'Maluku': 'Ambon'}\n"
     ]
    }
   ],
   "source": [
    "provinsi = {'Nanggroe Aceh Darussalam': 'Aceh',\n",
    "            'Sumatera Selatan': 'Palembang',\n",
    "            'Kalimantan Barat': 'Pontianak',\n",
    "            'Jawa Timur': 'Madiun',\n",
    "            'Sulawesi Selatan': 'Makassar',\n",
    "            'Maluku': 'Ambon'}  \n",
    "# soal a \n",
    "keyList = list(provinsi.keys())\n",
    "print(keyList)\n",
    "# soal b \n",
    "provinsi['Jawa Timur'] = 'Surabaya'\n",
    "print(provinsi)"
   ]
  }
 ],
 "metadata": {
  "kernelspec": {
   "display_name": "base",
   "language": "python",
   "name": "python3"
  },
  "language_info": {
   "codemirror_mode": {
    "name": "ipython",
    "version": 3
   },
   "file_extension": ".py",
   "mimetype": "text/x-python",
   "name": "python",
   "nbconvert_exporter": "python",
   "pygments_lexer": "ipython3",
   "version": "3.11.5"
  }
 },
 "nbformat": 4,
 "nbformat_minor": 2
}
